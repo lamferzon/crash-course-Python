{
 "cells": [
  {
   "cell_type": "markdown",
   "metadata": {},
   "source": [
    "<center>\n",
    "  <img src=\"https://digip.unibg.it/sites/dip3/files/logo-dip-it.svg\">\n",
    "</center>"
   ]
  },
  {
   "cell_type": "markdown",
   "metadata": {},
   "source": [
    "<center>\n",
    "    <h1><b>Crash course in Python</b> - AA 2024/2025</h1>\n",
    "    <h2>Lezione 1 - introduzione al linguaggio 🐍</h2>\n",
    "    <h3>A cura di <a href=\"https://github.com/lamferzon?tab=repositories\">Lorenzo Leoni</a></h3>\n",
    "</center>"
   ]
  },
  {
   "cell_type": "markdown",
   "metadata": {},
   "source": [
    "# Shortcut ✂️"
   ]
  },
  {
   "cell_type": "markdown",
   "metadata": {},
   "source": [
    "- ```ESC + A```: inserimento di una nuova cella sopra a quella corrente.\n",
    "- ```ESC + B```: inserimento di una nuova cella sotto a quella corrente.\n",
    "- ```ESC + X```: eliminazione della cella corrente.\n",
    "- ```ESC + M```: la cella corrente diventa una cella Markdown.\n",
    "- ```ESC + Y```: la cella corrente diventa una cella Python.\n",
    "- ```CTRL + INVIO```: eseuzione della cella corrente.\n",
    "- ```SHIFT + INVIO```: eseuzione della cella corrente e spostamento verso qualla successiva."
   ]
  },
  {
   "cell_type": "markdown",
   "metadata": {},
   "source": [
    "Per ulteriori scorciatoie da tastiera si rimanda alla seguente [pagina web](https://digitalhumanities.hkust.edu.hk/tutorials/jupyter-notebook-tips-and-shortcuts/)"
   ]
  },
  {
   "cell_type": "markdown",
   "metadata": {},
   "source": [
    "# I concetti chiave di Python 💥"
   ]
  },
  {
   "cell_type": "markdown",
   "metadata": {},
   "source": [
    "## Le variabili 💲"
   ]
  },
  {
   "cell_type": "markdown",
   "metadata": {},
   "source": [
    "### Tipi di dato"
   ]
  },
  {
   "cell_type": "markdown",
   "metadata": {},
   "source": [
    "Python è un linguaggio di programmazione basato sulla **tipizzazione dinamica**, ovvero il tipo di una variabile è determinato automaticamente dall'interprete al momento dell'assegnazione di un valore, invece di essere definito esplicitamente dal programmatore dichiarando anticipatamente una variabile (es. Java). In Python i **tipi primitivi** sono:\n",
    "- ```int```: numeri interi (es. 10, -3).\n",
    "- ```float```: numeri decimali (es. 3.14, -0.5).\n",
    "- ```str```: testo (es. \"Ciao\", \"Python\").\n",
    "- ```bool```: valori logici, ossia ```True``` o ```False```."
   ]
  },
  {
   "cell_type": "code",
   "execution_count": 1,
   "metadata": {},
   "outputs": [
    {
     "name": "stdout",
     "output_type": "stream",
     "text": [
      "<class 'int'>\n",
      "<class 'float'>\n",
      "<class 'str'>\n",
      "<class 'bool'>\n"
     ]
    }
   ],
   "source": [
    "numero_intero = 10       # int\n",
    "numero_decimale = 3.14   # float\n",
    "testo = \"Ciao, Python!\"  # str\n",
    "vero_falso = True        # bool\n",
    "\n",
    "# la funzione type consente di accedere al tipo della variabile\n",
    "print(type(numero_intero))\n",
    "print(type(numero_decimale))\n",
    "print(type(testo))\n",
    "print(type(vero_falso))"
   ]
  },
  {
   "cell_type": "markdown",
   "metadata": {},
   "source": [
    "**Nota**: la tipizzazione dinamica è comoda, tuttavia può causare confusione ed errori di assegnamento."
   ]
  },
  {
   "cell_type": "code",
   "execution_count": 2,
   "metadata": {},
   "outputs": [
    {
     "name": "stdout",
     "output_type": "stream",
     "text": [
      "Prima del casting: <class 'int'>\n",
      "Dopo il casting: <class 'str'>\n"
     ]
    }
   ],
   "source": [
    "print(\"Prima del casting:\", type(numero_intero))\n",
    "numero_intero = \"Statistica!\"\n",
    "print(\"Dopo il casting:\", type(numero_intero))"
   ]
  },
  {
   "cell_type": "markdown",
   "metadata": {},
   "source": [
    "Esempio pratico"
   ]
  },
  {
   "cell_type": "code",
   "execution_count": 3,
   "metadata": {},
   "outputs": [
    {
     "name": "stdout",
     "output_type": "stream",
     "text": [
      "Il perimetro del rettangolo è: 30\n"
     ]
    }
   ],
   "source": [
    "base = 5\n",
    "altezza = 10\n",
    "perimetro = 2 * (base + altezza)\n",
    "print(\"Il perimetro del rettangolo è:\", perimetro)"
   ]
  },
  {
   "cell_type": "markdown",
   "metadata": {},
   "source": [
    "### Operazioni con le stringhe"
   ]
  },
  {
   "cell_type": "code",
   "execution_count": 4,
   "metadata": {},
   "outputs": [
    {
     "name": "stdout",
     "output_type": "stream",
     "text": [
      "Output .upper(): CIAO A TUTTI\n",
      "Output .title(): Ciao A Tutti, Benvenuti!\n",
      "Output .replace(old, new): salve salve salve\n",
      "Output .isdigit(): True\n",
      "Output .find(sub): 7\n",
      "Output .find(sub): -1\n",
      "Output .split(sep): ['ciao', 'a', 'tutti', 'benvenuti!']\n",
      "Output str.join(list): ciao-a-tutti-benvenuti\n"
     ]
    }
   ],
   "source": [
    "# .upper(): converte tutti i caratteri della stringa in maiuscolo\n",
    "print(\"Output .upper():\", \"ciao a tutti\".upper())\n",
    "\n",
    "# .title(): converte la prima lettera di ogni parola in maiuscolo\n",
    "print(\"Output .title():\", \"ciao a tutti, benvenuti!\".title())\n",
    "\n",
    "# .replace(old, new): sostituisce tutte le occorrenze di una sottostringa con un’altra\n",
    "print(\"Output .replace(old, new):\", \"ciao ciao ciao\".replace(\"ciao\", \"salve\"))\n",
    "\n",
    "# .isdigit(): verifica se la stringa contiene solo cifre numeriche\n",
    "print(\"Output .isdigit():\", \"12345\".isdigit())\n",
    "\n",
    "# .find(sub): restituisce l'indice della prima occorrenza di sub nella stringa, -1 se non la trova\n",
    "print(\"Output .find(sub):\", \"ciao a tutti\".find(\"tutti\"))\n",
    "print(\"Output .find(sub):\", \"ciao a tutti\".find(\"mondo\"))\n",
    "\n",
    "# .split(sep): divide la stringa in una lista di sottostringhe usando sep come delimitatore. Se omesso, il separatore è uno spazio\n",
    "print(\"Output .split(sep):\", \"ciao,a,tutti,benvenuti!\".split(\",\"))\n",
    "\n",
    "# str.join(list): unisce una lista di stringhe in una singola stringa, inserendo str come delimitatore tra ciascuna\n",
    "print(\"Output str.join(list):\", \"-\".join([\"ciao\", \"a\", \"tutti\", \"benvenuti\"]))"
   ]
  },
  {
   "cell_type": "markdown",
   "metadata": {},
   "source": [
    "Per un elenco completo di tutti i metodi invocabili si rimanda alla seguente [pagina web](https://www.w3schools.com/python/python_ref_string.asp)."
   ]
  },
  {
   "cell_type": "markdown",
   "metadata": {},
   "source": [
    "## Le liste 📝"
   ]
  },
  {
   "cell_type": "markdown",
   "metadata": {},
   "source": [
    "Una lista in Python è una struttura dati che consente di memorizzare una sequenza ordinata di elementi, i quali possono essere di **tipi diversi**. Le liste sono **mutabili**, il che significa che gli elementi possono essere modificati, aggiunti o rimossi dopo la creazione."
   ]
  },
  {
   "cell_type": "code",
   "execution_count": 5,
   "metadata": {},
   "outputs": [
    {
     "data": {
      "text/plain": [
       "[1, 'Lorenzo', 2, [4.1, 5.2, 'Rodolfo'], 'Alice', False, 'Python', 46]"
      ]
     },
     "execution_count": 5,
     "metadata": {},
     "output_type": "execute_result"
    }
   ],
   "source": [
    "l1 = [1, \"Lorenzo\", 2, [4.1, 5.2, \"Rodolfo\"], \"Alice\", False]\n",
    "l2 = [\"Python\", 46]\n",
    "l1 + l2\n",
    "\n",
    "# due liste possono essere concatenate utilizzando l'operatore +\n",
    "l1 + l2"
   ]
  },
  {
   "cell_type": "markdown",
   "metadata": {},
   "source": [
    "**Nota**: l'indicizzazione delle liste in Python inizia da ```0```."
   ]
  },
  {
   "cell_type": "markdown",
   "metadata": {},
   "source": [
    "### Operazioni con le liste"
   ]
  },
  {
   "cell_type": "code",
   "execution_count": 6,
   "metadata": {},
   "outputs": [
    {
     "name": "stdout",
     "output_type": "stream",
     "text": [
      "Dopo .append(element): [1, 2, 3, 4]\n",
      "Dopo .insert(index, element): [1, 5, 2, 3, 4]\n",
      "Dopo .remove(element): [1, 2, 3, 4]\n",
      "Elemento estratto .pop(index): 3\n",
      "Dopo .pop(index): [1, 2, 4]\n",
      "Dopo .sort(): [1, 2, 4]\n",
      "Dopo .reverse(): [4, 2, 1]\n"
     ]
    }
   ],
   "source": [
    "lista = [1, 2, 3]\n",
    "\n",
    "# .append(element): aggiunge element alla fine della lista\n",
    "lista.append(4)\n",
    "print(\"Dopo .append(element):\", lista)\n",
    "\n",
    "# .insert(index, element): inserisce element nella posizione index\n",
    "lista.insert(1, 5)\n",
    "print(\"Dopo .insert(index, element):\", lista)\n",
    "\n",
    "# .remove(element): rimuove la prima occurrenza di element nella lista\n",
    "lista.remove(5)\n",
    "print(\"Dopo .remove(element):\", lista)\n",
    "\n",
    "# .pop(index): rimuove e restituisce l’elemento alla posizione specificata da index. Se index non è specificato, rimuove l’ultimo elemento\n",
    "print(\"Elemento estratto .pop(index):\", lista.pop(2))\n",
    "print(\"Dopo .pop(index):\", lista)\n",
    "\n",
    "# .sort(): ordina la lista in ordine crescente. Accetta l’argomento opzionale reverse=True per ordinare in ordine decrescente\n",
    "lista.sort()\n",
    "print(\"Dopo .sort():\", lista)\n",
    "\n",
    "# .reverse(): inverte l’ordine degli elementi nella lista\n",
    "lista.reverse()\n",
    "print(\"Dopo .reverse():\", lista)"
   ]
  },
  {
   "cell_type": "markdown",
   "metadata": {},
   "source": [
    "Per un elenco completo di tutti i metodi invocabili si rimanda alla seguente [pagina web](https://www.w3schools.com/python/python_ref_list.asp)."
   ]
  },
  {
   "cell_type": "markdown",
   "metadata": {},
   "source": [
    "## I dizionari 🔑"
   ]
  },
  {
   "cell_type": "markdown",
   "metadata": {},
   "source": [
    "In Python, un dizionario è una struttura dati che memorizza **coppie chiave-valore**. Ogni chiave è unica e viene utilizzata per accedere al valore associato."
   ]
  },
  {
   "cell_type": "markdown",
   "metadata": {},
   "source": [
    "### Costruzione di un dizionario"
   ]
  },
  {
   "cell_type": "code",
   "execution_count": 7,
   "metadata": {},
   "outputs": [
    {
     "data": {
      "text/plain": [
       "{'nome': 'Lorenzo', 'età': 26, 'corso': 'ingegneria informatica'}"
      ]
     },
     "execution_count": 7,
     "metadata": {},
     "output_type": "execute_result"
    }
   ],
   "source": [
    "# 1° metodo: utilizzo delle parentesi graffe\n",
    "studente1 = {\n",
    "    \"nome\": \"Luca\",\n",
    "    \"età\": 21,\n",
    "    \"corso\": \"ingegneria informatica\"\n",
    "}\n",
    "\n",
    "# 2° metodo: impiego della funzione dict()\n",
    "studente2 = dict(\n",
    "    nome = \"Giovanna\",\n",
    "    eta = 21,\n",
    "    corso = \"ingegneria gestionale\"\n",
    ")\n",
    "\n",
    "# 3° metodo: costruzione incrementale a partire da un dizionario vuoto\n",
    "studente3 = {}\n",
    "studente3[\"nome\"] = \"Lorenzo\"\n",
    "studente3[\"età\"] = 26\n",
    "studente3[\"corso\"] = \"ingegneria informatica\"\n",
    "studente3"
   ]
  },
  {
   "cell_type": "markdown",
   "metadata": {},
   "source": [
    "### Accesso ai valori"
   ]
  },
  {
   "cell_type": "code",
   "execution_count": 8,
   "metadata": {},
   "outputs": [
    {
     "name": "stdout",
     "output_type": "stream",
     "text": [
      "Luca\n",
      "None\n"
     ]
    }
   ],
   "source": [
    "# 1° metodo: utilizzo delle parentesi quadre\n",
    "print(studente1[\"nome\"])\n",
    "\n",
    "# 2° metodo: impiego del metodo get(). Esso non genera errori se la chiave non esiste (restituisce None)\n",
    "print(studente2.get(\"matricola\"))"
   ]
  },
  {
   "cell_type": "markdown",
   "metadata": {},
   "source": [
    "### Aggiunta, modifica ed eliminazione di elementi"
   ]
  },
  {
   "cell_type": "code",
   "execution_count": 9,
   "metadata": {},
   "outputs": [
    {
     "name": "stdout",
     "output_type": "stream",
     "text": [
      "{'nome': 'Lorenzo', 'corso': 'ingegneria informatica'}\n"
     ]
    }
   ],
   "source": [
    "studente1[\"università\"] = \"Università degli Studi di Bergamo\"  # aggiunta\n",
    "studente2[\"corso\"] = \"ingegneria meccanica\"  # modifica\n",
    "del studente3[\"età\"] # eliminazione\n",
    "print(studente3)"
   ]
  },
  {
   "cell_type": "markdown",
   "metadata": {},
   "source": [
    "### Alcuni metodi utili"
   ]
  },
  {
   "cell_type": "code",
   "execution_count": 10,
   "metadata": {},
   "outputs": [
    {
     "name": "stdout",
     "output_type": "stream",
     "text": [
      "Elenco delle chiavi: dict_keys(['nome', 'eta', 'corso'])\n",
      "Elenco dei valori: dict_values(['Giovanna', 21, 'ingegneria meccanica'])\n",
      "Elenco delle coppie: dict_items([('nome', 'Giovanna'), ('eta', 21), ('corso', 'ingegneria meccanica')])\n"
     ]
    }
   ],
   "source": [
    "print(\"Elenco delle chiavi:\", studente2.keys()) \n",
    "print(\"Elenco dei valori:\", studente2.values())\n",
    "print(\"Elenco delle coppie:\", studente2.items())"
   ]
  },
  {
   "cell_type": "markdown",
   "metadata": {},
   "source": [
    "## I costrutti 💡"
   ]
  },
  {
   "cell_type": "markdown",
   "metadata": {},
   "source": [
    "### Operatori"
   ]
  },
  {
   "cell_type": "markdown",
   "metadata": {},
   "source": [
    "Nella tabella seguente sono riportati i principali operatori aritmetico-logici utilizzabili in Python:\n",
    "| Categoria            | Operatore | Descrizione                | Esempio          | Risultato |\n",
    "|:--------------------:|:---------:|:--------------------------:|:----------------:|:---------:|\n",
    "|  *Matematici*        | `+`       | Addizione                  | `5 + 3`          | `8`       |\n",
    "|          \"           | `-`       | Sottrazione                | `5 - 3`          | `2`       |\n",
    "|          \"           | `*`       | Moltiplicazione            | `5 * 3`          | `15`      |\n",
    "|          \"           | `/`       | Divisione                  | `5 / 2`          | `2.5`     |\n",
    "|          \"           | `//`      | Divisione intera           | `5 // 2`         | `2`       |\n",
    "|          \"           | `%`       | Modulo (resto)             | `5 % 2`          | `1`       |\n",
    "|          \"           | `**`      | Potenza                    | `5 ** 2`         | `25`      |\n",
    "|          \"           | `-`       | Negazione (cambia segno)   | `-5`             | `-5`      |\n",
    "|  *Confronto*         | `==`      | Uguaglianza                | `5 == 3`         | `False`   |\n",
    "|          \"           | `!=`      | Diversità                  | `5 != 3`         | `True`    |\n",
    "|          \"           | `>`       | Maggiore di                | `5 > 3`          | `True`    |\n",
    "|          \"           | `<`       | Minore di                  | `5 < 3`          | `False`   |\n",
    "|          \"           | `>=`      | Maggiore o uguale          | `5 >= 5`         | `True`    |\n",
    "|          \"           | `<=`      | Minore o uguale            | `3 <= 5`         | `True`    |\n",
    "| *Logici*             | `and`     | E logico                   | `True and False` | `False`   |\n",
    "|          \"           | `or`      | O logico                   | `True or False`  | `True`    |\n",
    "|          \"           | `not`     | Negazione logica           | `not True`       | `False`   |\n",
    "| *Bitwise*            | `&`       | AND bit a bit              | `5 & 3`          | `1`       |\n",
    "|          \"           | `|`       | OR bit a bit               | `5 | 3`          | `7`       |\n",
    "|          \"           | `^`       | XOR bit a bit              | `5 ^ 3`          | `6`       |\n",
    "|          \"           | `~`       | NOT bit a bit (complemento)| `~5`             | `-6`      |\n",
    "|          \"           | `<<`      | Shift a sinistra           | `5 << 1`         | `10`      |\n",
    "|          \"           | `>>`      | Shift a destra             | `5 >> 1`         | `2`       |\n",
    "| *Identità*           | `is`      | Identico                   | `a is b`         | `True/False` |\n",
    "|          \"           | `is not`  | Non identico               | `a is not b`     | `True/False` |\n",
    "| *Appartenenza*       | `in`      | Presente                   | `'a' in 'abc'`   | `True`    |\n",
    "|          \"           | `not in`  | Non presente               | `'d' not in 'abc'` | `True`  |"
   ]
  },
  {
   "cell_type": "markdown",
   "metadata": {},
   "source": [
    "Per un elenco completo si rimanda alla seguente [pagina web](https://www.w3schools.com/python/python_operators.asp)."
   ]
  },
  {
   "cell_type": "markdown",
   "metadata": {},
   "source": [
    "### Costrutto di controllo ```if```"
   ]
  },
  {
   "cell_type": "code",
   "execution_count": 11,
   "metadata": {},
   "outputs": [
    {
     "name": "stdout",
     "output_type": "stream",
     "text": [
      "Il numero è positivo ed è grande.\n"
     ]
    }
   ],
   "source": [
    "x = 15\n",
    "\n",
    "if x < 0:\n",
    "    print(\"Il numero è negativo.\")\n",
    "elif x == 0:\n",
    "    print(\"Il numero è zero.\")\n",
    "elif x > 0 and x <= 10:\n",
    "    print(\"Il numero è positivo ed è piccolo.\")\n",
    "else:\n",
    "    print(\"Il numero è positivo ed è grande.\")"
   ]
  },
  {
   "cell_type": "markdown",
   "metadata": {},
   "source": [
    "**Nota**: in Python i blocchi di codice non sono delimitati da parentesi graffe; si utilizza invece l'**indentazione** per definire la struttura del codice."
   ]
  },
  {
   "cell_type": "markdown",
   "metadata": {},
   "source": [
    "### Ciclo ```while```"
   ]
  },
  {
   "cell_type": "code",
   "execution_count": 12,
   "metadata": {},
   "outputs": [
    {
     "name": "stdout",
     "output_type": "stream",
     "text": [
      "Fattoriale di 20: 2432902008176640000\n"
     ]
    }
   ],
   "source": [
    "n = 20\n",
    "fattoriale = 1\n",
    "temp = n\n",
    "\n",
    "while temp > 1:\n",
    "    fattoriale *= temp\n",
    "    temp -= 1\n",
    "\n",
    "print(f\"Fattoriale di {n}: {fattoriale}\")"
   ]
  },
  {
   "cell_type": "markdown",
   "metadata": {},
   "source": [
    "### Ciclo ```for```"
   ]
  },
  {
   "cell_type": "markdown",
   "metadata": {},
   "source": [
    "#### Esempio 1: iterare una lista"
   ]
  },
  {
   "cell_type": "code",
   "execution_count": 13,
   "metadata": {},
   "outputs": [
    {
     "name": "stdout",
     "output_type": "stream",
     "text": [
      "1° parola: arcobaleno\n",
      "2° parola: bicicletta\n",
      "3° parola: calendario\n",
      "4° parola: delfino\n",
      "5° parola: elefante\n",
      "6° parola: finestra\n",
      "7° parola: girasole\n"
     ]
    }
   ],
   "source": [
    "parole = [\n",
    "    \"arcobaleno\",\n",
    "    \"bicicletta\",\n",
    "    \"calendario\",\n",
    "    \"delfino\",\n",
    "    \"elefante\",\n",
    "    \"finestra\",\n",
    "    \"girasole\",\n",
    "    \"hotel\",\n",
    "    \"isola\",\n",
    "    \"libreria\"\n",
    "]\n",
    "\n",
    "for i, parola_i in enumerate(parole): # la funzione enumerate restituisce sia l'indice che l'elemento della lista\n",
    "    print(f\"{i+1}° parola: {parola_i}\")\n",
    "\n",
    "    if parola_i == \"girasole\":\n",
    "        break # il comando break interrompe anticipatamente il ciclo"
   ]
  },
  {
   "cell_type": "markdown",
   "metadata": {},
   "source": [
    "#### Esempio 2: iterare un dizionario"
   ]
  },
  {
   "cell_type": "code",
   "execution_count": null,
   "metadata": {},
   "outputs": [
    {
     "name": "stdout",
     "output_type": "stream",
     "text": [
      "Matricola: M12345\n",
      "- Nome: Alice\n",
      "- Corsi: ['Matematica', 'Fisica', 'Programmazione']\n",
      "Matricola: M67890\n",
      "- Nome: Marco\n",
      "- Corsi: ['Storia', 'Letteratura', 'Psicologia']\n",
      "Matricola: M54321\n",
      "- Nome: Giulia\n",
      "- Corsi: ['Biologia', 'Chimica', 'Fisica']\n",
      "Matricola: M09876\n",
      "- Nome: Luca\n",
      "- Corsi: ['Economia', 'Statistica', 'Informatica']\n",
      "Matricola: M11223\n",
      "- Nome: Elena\n",
      "- Corsi: ['Filosofia', 'Sociologia', 'Storia']\n",
      "\n",
      "Età media degli studenti: 21.0\n",
      "Media voti degli studenti: 27.50/30\n"
     ]
    }
   ],
   "source": [
    "studenti = {\n",
    "    \"M12345\": {\n",
    "        \"nome\": \"Alice\",\n",
    "        \"età\": 20,\n",
    "        \"corsi\": [\"Matematica\", \"Fisica\", \"Programmazione\"],\n",
    "        \"media_voti\": 28.5\n",
    "    },\n",
    "    \"M67890\": {\n",
    "        \"nome\": \"Marco\",\n",
    "        \"età\": 22,\n",
    "        \"corsi\": [\"Storia\", \"Letteratura\", \"Psicologia\"],\n",
    "        \"media_voti\": 26.8\n",
    "    },\n",
    "    \"M54321\": {\n",
    "        \"nome\": \"Giulia\",\n",
    "        \"età\": 21,\n",
    "        \"corsi\": [\"Biologia\", \"Chimica\", \"Fisica\"],\n",
    "        \"media_voti\": 29.2\n",
    "    },\n",
    "    \"M09876\": {\n",
    "        \"nome\": \"Luca\",\n",
    "        \"età\": 23,\n",
    "        \"corsi\": [\"Economia\", \"Statistica\", \"Informatica\"],\n",
    "        \"media_voti\": 27.3\n",
    "    },\n",
    "    \"M11223\": {\n",
    "        \"nome\": \"Elena\",\n",
    "        \"età\": 19,\n",
    "        \"corsi\": [\"Filosofia\", \"Sociologia\", \"Storia\"],\n",
    "        \"media_voti\": 25.7\n",
    "    }\n",
    "}\n",
    "\n",
    "somma_eta = 0\n",
    "somma_media = 0\n",
    "for matricola, studente_i in studenti.items():\n",
    "    print(f\"Matricola: {matricola}\")\n",
    "\n",
    "    for chiave, valore in studenti[matricola].items():\n",
    "        \n",
    "        match chiave: # il costrutto match-case è equivalente allo switch-case in Java\n",
    "            case \"età\":\n",
    "                somma_eta += valore\n",
    "            case \"media_voti\":\n",
    "                somma_media += valore\n",
    "            case _:\n",
    "                print(f\"- {chiave.capitalize()}: {valore}\")\n",
    "\n",
    "print(\"\\nEtà media degli studenti:\", somma_eta/len(studenti)) # \\n per andare a capo e len restituisce la lunghezza del dizionario\n",
    "print(f\"Media voti degli studenti: {somma_media/len(studenti):.2f}/30\") # formattazione per due decimali"
   ]
  },
  {
   "cell_type": "markdown",
   "metadata": {},
   "source": [
    "#### Esempio 3: iterare un intervallo numerico"
   ]
  },
  {
   "cell_type": "code",
   "execution_count": 33,
   "metadata": {},
   "outputs": [
    {
     "name": "stdout",
     "output_type": "stream",
     "text": [
      "1 è dispari\n",
      "2 è pari\n",
      "3 è dispari\n",
      "4 è pari\n",
      "5 è dispari\n",
      "6 è pari\n",
      "7 è dispari\n",
      "8 è pari\n",
      "9 è dispari\n",
      "10 è un multiplo di 10\n"
     ]
    }
   ],
   "source": [
    "frasi = []\n",
    "\n",
    "for numero in range(1, 11): # range(A, B) per creare un iteratore che produce numeri interi a partire da A fino a B-1\n",
    "    if numero % 10 == 0:\n",
    "        frasi.append(f\"{numero} è un multiplo di 10\")\n",
    "    elif numero % 2 == 0:\n",
    "        frasi.append(f\"{numero} è pari\")\n",
    "    else:\n",
    "        frasi.append(f\"{numero} è dispari\")\n",
    "\n",
    "for frase in frasi:\n",
    "    print(frase)"
   ]
  },
  {
   "cell_type": "markdown",
   "metadata": {},
   "source": [
    "### Gestione delle eccezioni tramite ```try-except```"
   ]
  },
  {
   "cell_type": "code",
   "execution_count": 37,
   "metadata": {},
   "outputs": [
    {
     "name": "stdout",
     "output_type": "stream",
     "text": [
      "Errore: impossibile dividere per zero\n"
     ]
    }
   ],
   "source": [
    "numeratore = 1\n",
    "denominatore = 0\n",
    "try:\n",
    "    print(f\"Risultato della divisione {numeratore}/{denominatore}: {numeratore/denominatore}\")\n",
    "except ZeroDivisionError:\n",
    "    print(\"Errore: impossibile dividere per zero\")"
   ]
  },
  {
   "cell_type": "markdown",
   "metadata": {},
   "source": [
    "### List comprehension"
   ]
  },
  {
   "cell_type": "markdown",
   "metadata": {},
   "source": [
    "La list comprehension in Python è una **sintassi concisa ed elegante** per creare nuove liste a partire da altre liste o iterabili. È molto utile perché consente di scrivere codice più compatto e leggibile rispetto ai tradizionali cicli ```for```. Le list comprehension possono includere condizioni per filtrare i dati e possono essere utilizzate per trasformare i valori in modo semplice."
   ]
  },
  {
   "cell_type": "code",
   "execution_count": 45,
   "metadata": {},
   "outputs": [
    {
     "name": "stdout",
     "output_type": "stream",
     "text": [
      "I cubi dei numeri pari da 0 a 9 sono: [0, 8, 64, 216, 512]\n"
     ]
    }
   ],
   "source": [
    "numeri = list(range(10))\n",
    "cubi_pari = [n**3 for n in numeri if n % 2 == 0]\n",
    "print(\"I cubi dei numeri pari da 0 a 9 sono:\", cubi_pari)"
   ]
  },
  {
   "cell_type": "markdown",
   "metadata": {},
   "source": [
    "## Le funzioni 📮"
   ]
  },
  {
   "cell_type": "code",
   "execution_count": null,
   "metadata": {},
   "outputs": [],
   "source": []
  }
 ],
 "metadata": {
  "kernelspec": {
   "display_name": "Python 3",
   "language": "python",
   "name": "python3"
  },
  "language_info": {
   "codemirror_mode": {
    "name": "ipython",
    "version": 3
   },
   "file_extension": ".py",
   "mimetype": "text/x-python",
   "name": "python",
   "nbconvert_exporter": "python",
   "pygments_lexer": "ipython3",
   "version": "3.12.7"
  }
 },
 "nbformat": 4,
 "nbformat_minor": 2
}
