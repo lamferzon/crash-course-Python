{
 "cells": [
  {
   "cell_type": "markdown",
   "metadata": {},
   "source": [
    "<center>\n",
    "  <img src=\"https://digip.unibg.it/sites/dip3/files/logo-dip-it.svg\">\n",
    "</center>"
   ]
  },
  {
   "cell_type": "markdown",
   "metadata": {},
   "source": [
    "<center>\n",
    "    <h1><b>Crash course in Python</b> - AA 2024/2025</h1>\n",
    "    <h2>Lezione 1 - introduzione al linguaggio 🐍</h2>\n",
    "    <h3>A cura di <a href=\"https://github.com/lamferzon?tab=repositories\">Lorenzo Leoni</a></h3>\n",
    "</center>"
   ]
  },
  {
   "cell_type": "markdown",
   "metadata": {},
   "source": [
    "# Shortcut ✂️"
   ]
  },
  {
   "cell_type": "markdown",
   "metadata": {},
   "source": [
    "- ```ESC + A```: inserimento di una nuova cella sopra a quella corrente.\n",
    "- ```ESC + B```: inserimento di una nuova cella sotto a quella corrente.\n",
    "- ```ESC + X```: eliminazione della cella corrente.\n",
    "- ```ESC + M```: la cella corrente diventa una cella Markdown.\n",
    "- ```ESC + Y```: la cella corrente diventa una cella Python.\n",
    "- ```CTRL + INVIO```: eseuzione della cella corrente.\n",
    "- ```SHIFT + INVIO```: eseuzione della cella corrente e spostamento verso qualla successiva."
   ]
  },
  {
   "cell_type": "markdown",
   "metadata": {},
   "source": [
    "Per ulteriori scorciatoie da tastiera si rimanda alla seguente [pagina web](https://digitalhumanities.hkust.edu.hk/tutorials/jupyter-notebook-tips-and-shortcuts/)"
   ]
  },
  {
   "cell_type": "markdown",
   "metadata": {},
   "source": [
    "# I concetti chiave di Python 💥"
   ]
  },
  {
   "cell_type": "markdown",
   "metadata": {},
   "source": [
    "## Le variabili"
   ]
  },
  {
   "cell_type": "markdown",
   "metadata": {},
   "source": [
    "### Tipi di dato"
   ]
  },
  {
   "cell_type": "markdown",
   "metadata": {},
   "source": [
    "Python è un linguaggio di programmazione basato sulla **tipizzazione dinamica**, ovvero il tipo di una variabile è determinato automaticamente dall'interprete al momento dell'assegnazione di un valore, invece di essere definito esplicitamente dal programmatore dichiarando anticipatamente una variabile (es. Java). In Python i **tipi primitivi** sono:\n",
    "- ```int```: numeri interi (es. 10, -3).\n",
    "- ```float```: numeri decimali (es. 3.14, -0.5).\n",
    "- ```str```: testo (es. \"Ciao\", \"Python\").\n",
    "- ```bool```: valori logici, ossia ```True``` o ```False```."
   ]
  },
  {
   "cell_type": "code",
   "execution_count": 26,
   "metadata": {},
   "outputs": [
    {
     "name": "stdout",
     "output_type": "stream",
     "text": [
      "<class 'int'>\n",
      "<class 'float'>\n",
      "<class 'str'>\n",
      "<class 'bool'>\n"
     ]
    }
   ],
   "source": [
    "numero_intero = 10       # int\n",
    "numero_decimale = 3.14   # float\n",
    "testo = \"Ciao, Python!\"  # str\n",
    "vero_falso = True        # bool\n",
    "\n",
    "# la funzione type consente di accedere al tipo della variabile\n",
    "print(type(numero_intero))\n",
    "print(type(numero_decimale))\n",
    "print(type(testo))\n",
    "print(type(vero_falso))"
   ]
  },
  {
   "cell_type": "markdown",
   "metadata": {},
   "source": [
    "**Attenzione**: la tipizzazione dinamica è comoda, tuttavia può causare confusione ed errori di assegnamento."
   ]
  },
  {
   "cell_type": "code",
   "execution_count": 27,
   "metadata": {},
   "outputs": [
    {
     "name": "stdout",
     "output_type": "stream",
     "text": [
      "Prima del casting: <class 'int'>\n",
      "Dopo il casting: <class 'str'>\n"
     ]
    }
   ],
   "source": [
    "print(\"Prima del casting:\", type(numero_intero))\n",
    "numero_intero = \"Statistica!\"\n",
    "print(\"Dopo il casting:\", type(numero_intero))"
   ]
  },
  {
   "cell_type": "markdown",
   "metadata": {},
   "source": [
    "Esempio"
   ]
  },
  {
   "cell_type": "code",
   "execution_count": 28,
   "metadata": {},
   "outputs": [
    {
     "name": "stdout",
     "output_type": "stream",
     "text": [
      "Il perimetro del rettangolo è: 30\n"
     ]
    }
   ],
   "source": [
    "base = 5\n",
    "altezza = 10\n",
    "perimetro = 2 * (base + altezza)\n",
    "print(\"Il perimetro del rettangolo è:\", perimetro)"
   ]
  },
  {
   "cell_type": "markdown",
   "metadata": {},
   "source": [
    "### Operazioni con le stringhe"
   ]
  },
  {
   "cell_type": "code",
   "execution_count": 29,
   "metadata": {},
   "outputs": [
    {
     "name": "stdout",
     "output_type": "stream",
     "text": [
      "Output .upper(): CIAO A TUTTI\n",
      "Output .title(): Ciao A Tutti, Benvenuti!\n",
      "Output .replace(old, new): salve salve salve\n",
      "Output .isdigit(): True\n",
      "Output .find(sub): 7\n",
      "Output .find(sub): -1\n",
      "Output .split(sep): ['ciao', 'a', 'tutti', 'benvenuti!']\n",
      "Output str.join(list): ciao-a-tutti-benvenuti\n"
     ]
    }
   ],
   "source": [
    "# .upper(): converte tutti i caratteri della stringa in maiuscolo\n",
    "print(\"Output .upper():\", \"ciao a tutti\".upper())\n",
    "\n",
    "# .title(): converte la prima lettera di ogni parola in maiuscolo\n",
    "print(\"Output .title():\", \"ciao a tutti, benvenuti!\".title())\n",
    "\n",
    "# .replace(old, new): costituisce tutte le occorrenze di una sottostringa con un’altra\n",
    "print(\"Output .replace(old, new):\", \"ciao ciao ciao\".replace(\"ciao\", \"salve\"))\n",
    "\n",
    "# .isdigit(): verifica se la stringa contiene solo cifre numeriche\n",
    "print(\"Output .isdigit():\", \"12345\".isdigit())\n",
    "\n",
    "# .find(sub): restituisce l'indice della prima occorrenza di sub nella stringa, -1 se non la trova\n",
    "print(\"Output .find(sub):\", \"ciao a tutti\".find(\"tutti\"))\n",
    "print(\"Output .find(sub):\", \"ciao a tutti\".find(\"mondo\"))\n",
    "\n",
    "# .split(sep): divide la stringa in una lista di sottostringhe usando sep come delimitatore. Se omesso, il separatore è uno spazio\n",
    "print(\"Output .split(sep):\", \"ciao,a,tutti,benvenuti!\".split(\",\"))\n",
    "\n",
    "# str.join(list): unisce una lista di stringhe in una singola stringa, inserendo str come delimitatore tra ciascuna\n",
    "print(\"Output str.join(list):\", \"-\".join([\"ciao\", \"a\", \"tutti\", \"benvenuti\"]))"
   ]
  },
  {
   "cell_type": "markdown",
   "metadata": {},
   "source": [
    "Per un elenco completo di tutti i metodi invocabili si rimanda alla seguente [pagina web](https://www.w3schools.com/python/python_ref_string.asp)."
   ]
  },
  {
   "cell_type": "markdown",
   "metadata": {},
   "source": [
    "### La funzione ```print```"
   ]
  },
  {
   "cell_type": "code",
   "execution_count": 30,
   "metadata": {},
   "outputs": [],
   "source": [
    "# ```"
   ]
  },
  {
   "cell_type": "markdown",
   "metadata": {},
   "source": [
    "## Le liste"
   ]
  },
  {
   "cell_type": "markdown",
   "metadata": {},
   "source": [
    "Una lista in Python è una struttura dati che consente di memorizzare una sequenza ordinata di elementi, i quali possono essere di **tipi diversi**. Le liste sono **mutabili**, il che significa che gli elementi possono essere modificati, aggiunti o rimossi dopo la creazione."
   ]
  },
  {
   "cell_type": "code",
   "execution_count": 31,
   "metadata": {},
   "outputs": [
    {
     "data": {
      "text/plain": [
       "[1, 'Lorenzo', 2, [4.1, 5.2], 'Asya', False, 'Python', 46]"
      ]
     },
     "execution_count": 31,
     "metadata": {},
     "output_type": "execute_result"
    }
   ],
   "source": [
    "l1 = [1, \"Lorenzo\", 2, [4.1, 5.2], \"Asya\", False]\n",
    "l2 = [\"Python\", 46]\n",
    "l1 + l2\n",
    "\n",
    "# due liste possono essere concatenate utilizzando l'operatore +\n",
    "l1 + l2"
   ]
  },
  {
   "cell_type": "markdown",
   "metadata": {},
   "source": [
    "**Nota**: l'indicizzazione delle liste in Python inizia da ```0```."
   ]
  },
  {
   "cell_type": "markdown",
   "metadata": {},
   "source": [
    "### Operazioni con le liste"
   ]
  },
  {
   "cell_type": "code",
   "execution_count": 32,
   "metadata": {},
   "outputs": [
    {
     "name": "stdout",
     "output_type": "stream",
     "text": [
      "Dopo .append(element): [1, 2, 3, 4]\n",
      "Dopo .insert(index, element): [1, 5, 2, 3, 4]\n",
      "Dopo .remove(element): [1, 2, 3, 4]\n",
      "Elemento estratto .pop(index): 3\n",
      "Dopo .pop(index): [1, 2, 4]\n",
      "Dopo .sort(): [1, 2, 4]\n",
      "Dopo .reverse(): [4, 2, 1]\n"
     ]
    }
   ],
   "source": [
    "lista = [1, 2, 3]\n",
    "\n",
    "# .append(element): aggiunge element alla fine della lista\n",
    "lista.append(4)\n",
    "print(\"Dopo .append(element):\", lista)\n",
    "\n",
    "# .insert(index, element): inserisce element nella posizione index\n",
    "lista.insert(1, 5)\n",
    "print(\"Dopo .insert(index, element):\", lista)\n",
    "\n",
    "# .remove(element): rimuove la prima occurrenza di element nella lista\n",
    "lista.remove(5)\n",
    "print(\"Dopo .remove(element):\", lista)\n",
    "\n",
    "# .pop(index): rimuove e restituisce l’elemento alla posizione specificata da index. Se index non è specificato, rimuove l’ultimo elemento\n",
    "print(\"Elemento estratto .pop(index):\", lista.pop(2))\n",
    "print(\"Dopo .pop(index):\", lista)\n",
    "\n",
    "# .sort(): ordina la lista in ordine crescente. Accetta l’argomento opzionale reverse=True per ordinare in ordine decrescente\n",
    "lista.sort()\n",
    "print(\"Dopo .sort():\", lista)\n",
    "\n",
    "# .reverse(): inverte l’ordine degli elementi nella lista\n",
    "lista.reverse()\n",
    "print(\"Dopo .reverse():\", lista)"
   ]
  },
  {
   "cell_type": "markdown",
   "metadata": {},
   "source": [
    "Per un elenco completo di tutti i metodi invocabili si rimanda alla seguente [pagina web](https://www.w3schools.com/python/python_ref_list.asp)."
   ]
  },
  {
   "cell_type": "markdown",
   "metadata": {},
   "source": [
    "## I dizionari 📄"
   ]
  },
  {
   "cell_type": "markdown",
   "metadata": {},
   "source": [
    "In Python, un dizionario è una struttura dati che memorizza **coppie chiave-valore**. Ogni chiave è unica e viene utilizzata per accedere al valore associato."
   ]
  },
  {
   "cell_type": "markdown",
   "metadata": {},
   "source": [
    "### Costruzione di un dizionario"
   ]
  },
  {
   "cell_type": "code",
   "execution_count": 33,
   "metadata": {},
   "outputs": [
    {
     "data": {
      "text/plain": [
       "{'nome': 'Lorenzo', 'età': 26, 'corso': 'ingegneria informatica'}"
      ]
     },
     "execution_count": 33,
     "metadata": {},
     "output_type": "execute_result"
    }
   ],
   "source": [
    "# I metodo: utilizzo delle parentesi graffe\n",
    "studente1 = {\n",
    "    \"nome\": \"Luca\",\n",
    "    \"età\": 21,\n",
    "    \"corso\": \"ingegneria informatica\"\n",
    "}\n",
    "\n",
    "# II metodo: impiego della funzione dict()\n",
    "studente2 = dict(\n",
    "    nome = \"Giovanna\",\n",
    "    eta = 21,\n",
    "    corso = \"ingegneria gestionale\"\n",
    ")\n",
    "\n",
    "# III metodo: costruzione incrementale a partire da un dizionario vuoto\n",
    "studente3 = {}\n",
    "studente3[\"nome\"] = \"Lorenzo\"\n",
    "studente3[\"età\"] = 26\n",
    "studente3[\"corso\"] = \"ingegneria informatica\"\n",
    "studente3"
   ]
  },
  {
   "cell_type": "markdown",
   "metadata": {},
   "source": [
    "### Accesso ai valori"
   ]
  },
  {
   "cell_type": "code",
   "execution_count": 34,
   "metadata": {},
   "outputs": [
    {
     "name": "stdout",
     "output_type": "stream",
     "text": [
      "Luca\n",
      "None\n"
     ]
    }
   ],
   "source": [
    "# I metodo: utilizzo delle parentesi quadre\n",
    "print(studente1[\"nome\"])\n",
    "\n",
    "# II metodo: impiego del metodo get(). Esso non genera errori se la chiave non esiste\n",
    "print(studente2.get(\"matricola\"))"
   ]
  },
  {
   "cell_type": "markdown",
   "metadata": {},
   "source": [
    "### Aggiunta, modifica ed eliminazione di elementi"
   ]
  },
  {
   "cell_type": "code",
   "execution_count": 35,
   "metadata": {},
   "outputs": [
    {
     "name": "stdout",
     "output_type": "stream",
     "text": [
      "{'nome': 'Lorenzo', 'corso': 'ingegneria informatica'}\n"
     ]
    }
   ],
   "source": [
    "studente1[\"università\"] = \"Università degli Studi di Bergamo\"  # aggiunta\n",
    "studente2[\"corso\"] = \"ingegneria meccanica\"  # modifica\n",
    "del studente3[\"età\"] # eliminazione\n",
    "print(studente3)"
   ]
  },
  {
   "cell_type": "markdown",
   "metadata": {},
   "source": [
    "### Alcuni metodi utili"
   ]
  },
  {
   "cell_type": "code",
   "execution_count": 36,
   "metadata": {},
   "outputs": [
    {
     "name": "stdout",
     "output_type": "stream",
     "text": [
      "Elenco delle chiavi: dict_keys(['nome', 'eta', 'corso'])\n",
      "Elenco dei valori: dict_values(['Giovanna', 21, 'ingegneria meccanica'])\n",
      "Elenco delle coppie: dict_items([('nome', 'Giovanna'), ('eta', 21), ('corso', 'ingegneria meccanica')])\n"
     ]
    }
   ],
   "source": [
    "print(\"Elenco delle chiavi:\", studente2.keys()) \n",
    "print(\"Elenco dei valori:\", studente2.values())\n",
    "print(\"Elenco delle coppie:\", studente2.items())"
   ]
  },
  {
   "cell_type": "markdown",
   "metadata": {},
   "source": [
    "## I costrutti"
   ]
  },
  {
   "cell_type": "code",
   "execution_count": null,
   "metadata": {},
   "outputs": [],
   "source": []
  },
  {
   "cell_type": "markdown",
   "metadata": {},
   "source": [
    "## Le funzioni"
   ]
  },
  {
   "cell_type": "code",
   "execution_count": null,
   "metadata": {},
   "outputs": [],
   "source": []
  },
  {
   "cell_type": "markdown",
   "metadata": {},
   "source": [
    "# Python per l'analisi dati 📈 "
   ]
  },
  {
   "cell_type": "markdown",
   "metadata": {},
   "source": [
    "## Importazione dei pacchetti e dei moduli"
   ]
  },
  {
   "cell_type": "code",
   "execution_count": null,
   "metadata": {},
   "outputs": [],
   "source": []
  },
  {
   "cell_type": "markdown",
   "metadata": {},
   "source": [
    "## Lavorare con le matrici: ```NumPy```"
   ]
  },
  {
   "cell_type": "code",
   "execution_count": null,
   "metadata": {},
   "outputs": [],
   "source": []
  },
  {
   "cell_type": "markdown",
   "metadata": {},
   "source": [
    "## Lavorare con i dataset: ```Pandas```"
   ]
  },
  {
   "cell_type": "code",
   "execution_count": null,
   "metadata": {},
   "outputs": [],
   "source": []
  },
  {
   "cell_type": "markdown",
   "metadata": {},
   "source": [
    "## Data visualization: ```Matplotlib``` e ```Seaborn``` "
   ]
  },
  {
   "cell_type": "code",
   "execution_count": null,
   "metadata": {},
   "outputs": [],
   "source": []
  }
 ],
 "metadata": {
  "kernelspec": {
   "display_name": "base",
   "language": "python",
   "name": "python3"
  },
  "language_info": {
   "codemirror_mode": {
    "name": "ipython",
    "version": 3
   },
   "file_extension": ".py",
   "mimetype": "text/x-python",
   "name": "python",
   "nbconvert_exporter": "python",
   "pygments_lexer": "ipython3",
   "version": "3.9.13"
  }
 },
 "nbformat": 4,
 "nbformat_minor": 2
}
