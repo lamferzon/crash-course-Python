{
 "cells": [
  {
   "cell_type": "markdown",
   "metadata": {},
   "source": [
    "<center>\n",
    "  <img src=\"https://digip.unibg.it/sites/dip3/files/logo-dip-it.svg\">\n",
    "</center>"
   ]
  },
  {
   "cell_type": "markdown",
   "metadata": {},
   "source": [
    "<center>\n",
    "    <h1><b>Crash course in Python</b> - AA 2024/2025</h1>\n",
    "    <h2>Lezione 2 - Python per l'analisi dati 📈</h2>\n",
    "    <h3>A cura di <a href=\"https://github.com/lamferzon?tab=repositories\">Lorenzo Leoni</a></h3>\n",
    "</center>"
   ]
  },
  {
   "cell_type": "markdown",
   "metadata": {},
   "source": [
    "## Importazione dei moduli, pacchetti e librerie"
   ]
  },
  {
   "cell_type": "markdown",
   "metadata": {},
   "source": [
    "La differenza tra un modulo, un pacchetto e una libreria è la seguente:\n",
    "- Un **modulo** è un singolo file `.py` che contiene definizioni di variabili, funzioni e classi. I moduli servono a organizzare il codice in unità logiche, permettendo di suddividere il progetto in parti facilmente gestibili e riutilizzabili. \n",
    "- Un **pacchetto** (o **libreria**) è una cartella che contiene uno o più moduli e un file speciale `__init__.py`, che segnala a Python che la cartella è un pacchetto e può essere importata come tale. I pacchetti permettono di organizzare i moduli in una gerarchia, creando strutture più complesse e organizzate per progetti di grandi dimensioni.\n",
    "- Una **libreria** è una collezione di pacchetti e moduli che risolvono un determinato problema o offrono funzionalità generali.\n",
    "\n",
    "Esempio:\n",
    "\n",
    "```python\n",
    "scienze/ # libreria\n",
    "|---- __init__.py\n",
    "|---- matematica/ # pacchetto\n",
    "|-------- __init__.py # file per l'identificazione del pacchetto\n",
    "|-------- aritmetica.py # modulo di un pacchetto\n",
    "|-------- geometria.py\n",
    "|---- fisica/\n",
    "|-------- __init__.py\n",
    "|-------- cinematica.py\n",
    "|-------- termodinamica.py\n",
    "|-------- elettromagnetismo.py\n",
    "|---- probabilita.py # modulo di una libreria\n",
    "```"
   ]
  },
  {
   "cell_type": "code",
   "execution_count": 1,
   "metadata": {},
   "outputs": [],
   "source": [
    "# importazione di librerie\n",
    "import numpy as np\n",
    "import pandas as pd # 'as' consente di assegnare un alias all'entità\n",
    "import seaborn as sns\n",
    "\n",
    "# importazione di un modulo ('linalg') in una libreria ('numpy')\n",
    "import numpy.linalg as la\n",
    "\n",
    "# importazione di un pacchetto ('pyplot') in una libreria ('matplotlib')\n",
    "from matplotlib import pyplot as plt\n",
    "\n",
    "# importazione di un modulo ('MinMaxScaler') di un pacchetto ('preprocessing') contenuto in una libreria\n",
    "from sklearn.preprocessing import MinMaxScaler"
   ]
  },
  {
   "cell_type": "markdown",
   "metadata": {},
   "source": [
    "## Lavorare con le matrici: ```NumPy```"
   ]
  },
  {
   "cell_type": "markdown",
   "metadata": {},
   "source": [
    "### Creazione di array"
   ]
  },
  {
   "cell_type": "code",
   "execution_count": 64,
   "metadata": {},
   "outputs": [
    {
     "name": "stdout",
     "output_type": "stream",
     "text": [
      "Array monodimensionale (5,) :\n",
      " [1 2 3 4 5]\n",
      "\n",
      "Array bidimensionale (2, 5) :\n",
      " [[ 1  2  3  4  5]\n",
      " [ 6  7  8  9 10]]\n",
      "\n",
      "Array tridimensionale (2, 2, 5) :\n",
      " [[[ 1  2  3  4  5]\n",
      "  [ 6  7  8  9 10]]\n",
      "\n",
      " [[11 12 13 14 15]\n",
      "  [16 17 18 19 20]]]\n",
      "\n",
      "Array di zeri:\n",
      " [[0. 0. 0. 0. 0.]\n",
      " [0. 0. 0. 0. 0.]\n",
      " [0. 0. 0. 0. 0.]\n",
      " [0. 0. 0. 0. 0.]]\n",
      "\n",
      "Array di uni:\n",
      " [[0. 0. 0.]\n",
      " [0. 0. 0.]\n",
      " [0. 0. 0.]]\n",
      "\n",
      "Array di numeri casuali:\n",
      " [[0.42547168 0.41972348 0.1753726  0.8000795 ]\n",
      " [0.82830364 0.09608335 0.18176284 0.65294203]]\n"
     ]
    }
   ],
   "source": [
    "# array monodimensionale (vettore)\n",
    "array_1D = np.array(\n",
    "    [1, 2, 3, 4, 5]\n",
    ")\n",
    "# il campo 'shape' rappresenta le dimensioni dell'array\n",
    "print(\"Array monodimensionale\", array_1D.shape, \":\\n\", array_1D)\n",
    "\n",
    "# array bidimensionale (matrice)\n",
    "array_2D = np.array(\n",
    "    [\n",
    "        [1, 2, 3, 4, 5],\n",
    "        [6, 7, 8, 9, 10]\n",
    "    ]\n",
    ")\n",
    "print(\"\\nArray bidimensionale\", array_2D.shape, \":\\n\", array_2D)\n",
    "\n",
    "# array tridimensionale (matrice multidimensionale)\n",
    "array_3D = np.array(\n",
    "    [\n",
    "        [ # prima matrice\n",
    "            [1, 2, 3, 4, 5],\n",
    "            [6, 7, 8, 9, 10]\n",
    "        ],\n",
    "        [ # seconda matrice\n",
    "            [11, 12, 13, 14, 15],\n",
    "            [16, 17, 18, 19, 20]\n",
    "        ],\n",
    "    ]\n",
    ")\n",
    "print(\"\\nArray tridimensionale\", array_3D.shape, \":\\n\", array_3D)\n",
    "\n",
    "# array di zeri\n",
    "print(\"\\nArray di zeri:\\n\", np.zeros((4, 5))) # 4 righe, 5 colonne\n",
    "\n",
    "# array di uni\n",
    "print(\"\\nArray di uni:\\n\", np.zeros((3, 3)))\n",
    "\n",
    "# array di numeri casuali tra 0 e 1\n",
    "print(\"\\nArray di numeri casuali:\\n\", np.random.rand(2, 4))"
   ]
  },
  {
   "cell_type": "markdown",
   "metadata": {},
   "source": [
    "### Operazioni sugli array"
   ]
  },
  {
   "cell_type": "code",
   "execution_count": null,
   "metadata": {},
   "outputs": [
    {
     "name": "stdout",
     "output_type": "stream",
     "text": [
      "Addizione:\n",
      " [[12 14 16 18 20]\n",
      " [22 24 26 28 30]]\n",
      "\n",
      "Sottrazione:\n",
      " [[-10 -10 -10 -10 -10]\n",
      " [-10 -10 -10 -10 -10]]\n",
      "\n",
      "Moltiplicazione:\n",
      " [[ 11  24  39  56  75]\n",
      " [ 96 119 144 171 200]]\n",
      "\n",
      "Divisione:\n",
      " [[0.09090909 0.16666667 0.23076923 0.28571429 0.33333333]\n",
      " [0.375      0.41176471 0.44444444 0.47368421 0.5       ]]\n",
      "\n",
      "Radice quadrata:\n",
      " [[3.31662479 3.46410162 3.60555128 3.74165739 3.87298335]\n",
      " [4.         4.12310563 4.24264069 4.35889894 4.47213595]]\n",
      "\n",
      "Elevazione al quadrato:\n",
      " [[  1   4   9  16  25]\n",
      " [ 36  49  64  81 100]]\n",
      "\n",
      "Logaritmo naturale:\n",
      " [[0.         0.69314718 1.09861229 1.38629436 1.60943791]\n",
      " [1.79175947 1.94591015 2.07944154 2.19722458 2.30258509]]\n",
      "\n",
      "Esponenziale:\n",
      " [[2.71828183e+00 7.38905610e+00 2.00855369e+01 5.45981500e+01\n",
      "  1.48413159e+02]\n",
      " [4.03428793e+02 1.09663316e+03 2.98095799e+03 8.10308393e+03\n",
      "  2.20264658e+04]]\n",
      "\n",
      "Somma per riga:\n",
      " [15 40]\n",
      "\n",
      "Media per colonna:\n",
      " [3.5 4.5 5.5 6.5 7.5]\n"
     ]
    }
   ],
   "source": [
    "array_a = array_3D[0] # prima matrice\n",
    "array_b = array_3D[1] # seconda matrice\n",
    "\n",
    "# operazioni fondamentali\n",
    "print(\"Addizione:\\n\", array_a + array_b)\n",
    "print(\"\\nSottrazione:\\n\", array_a - array_b)\n",
    "print(\"\\nMoltiplicazione:\\n\", array_a * array_b)\n",
    "print(\"\\nDivisione:\\n\", array_a / array_b)\n",
    "\n",
    "# operazioni avanzate\n",
    "print(\"\\nRadice quadrata:\\n\", np.sqrt(array_b))\n",
    "print(\"\\nElevazione al quadrato:\\n\", array_a ** 2)\n",
    "print(\"\\nLogaritmo naturale:\\n\", np.log(array_a))\n",
    "print(\"\\nEsponenziale:\\n\", np.exp(array_a))\n",
    "print(\"\\nSomma per riga:\\n\", np.sum(array_a, 1))\n",
    "print(\"\\nMedia per colonna:\\n\", np.mean(array_a, 0))"
   ]
  },
  {
   "cell_type": "markdown",
   "metadata": {},
   "source": [
    "### Slicing e indicizzazione"
   ]
  },
  {
   "cell_type": "code",
   "execution_count": 113,
   "metadata": {},
   "outputs": [
    {
     "name": "stdout",
     "output_type": "stream",
     "text": [
      "Elemento (0, 0): 11\n",
      "Prima colonna: [11 16]\n",
      "Seconda riga: [16 17 18 19 20]\n",
      "Prima riga, dall'elemento 1 all'elemento 3: [12 13 14]\n"
     ]
    }
   ],
   "source": [
    "print(\"Elemento (0, 0):\", array_b[0, 0])\n",
    "print(\"Prima colonna:\", array_b[:, 0])\n",
    "print(\"Seconda riga:\", array_b[1, :])\n",
    "print(\"Prima riga, dall'elemento 1 all'elemento 3:\", array_b[0, :][1:4])"
   ]
  },
  {
   "cell_type": "markdown",
   "metadata": {},
   "source": [
    "**Nota**: lo slicing con gli array NumPy funziona in maniera analoga a quello con le liste."
   ]
  },
  {
   "cell_type": "markdown",
   "metadata": {},
   "source": [
    "### Filtraggio"
   ]
  },
  {
   "cell_type": "code",
   "execution_count": 128,
   "metadata": {},
   "outputs": [
    {
     "name": "stdout",
     "output_type": "stream",
     "text": [
      "Indice degli elementi che soddisfano il filtro:\n",
      " [False False False False False False False False False False False  True\n",
      "  True  True  True  True  True  True  True  True  True  True  True  True\n",
      "  True  True  True  True  True  True  True  True  True  True  True  True\n",
      "  True  True  True  True  True  True  True  True  True  True  True  True\n",
      "  True  True False False False False False False False False False False\n",
      " False False False False False False False False False False False False\n",
      " False False False False False False False False False False False False\n",
      " False False False False False False False False False False False False\n",
      " False False False False False]\n",
      "\n",
      "Elementi che soddisfano il filtro:\n",
      " [11. 12. 13. 14. 15. 16. 17. 18. 19. 20. 21. 22. 23. 24. 25. 26. 27. 28.\n",
      " 29. 30. 31. 32. 33. 34. 35. 36. 37. 38. 39. 40. 41. 42. 43. 44. 45. 46.\n",
      " 47. 48. 49.]\n"
     ]
    }
   ],
   "source": [
    "vettore = np.linspace(0, 100, 101) # da 0 a 100, 101 elementi\n",
    "filtro = (vettore > 10) & (vettore < 50)\n",
    "print(\"Indice degli elementi che soddisfano il filtro:\\n\", filtro)\n",
    "print(\"\\nElementi che soddisfano il filtro:\\n\", vettore[filtro])"
   ]
  },
  {
   "cell_type": "markdown",
   "metadata": {},
   "source": [
    "### Funzioni di algebra lineare"
   ]
  },
  {
   "cell_type": "code",
   "execution_count": 134,
   "metadata": {},
   "outputs": [
    {
     "name": "stdout",
     "output_type": "stream",
     "text": [
      "Prodotto scalare: 32\n",
      "Prodotto riga per colonna:\n",
      " [[19 22]\n",
      " [43 50]]\n"
     ]
    }
   ],
   "source": [
    "# prodotto scalare\n",
    "vettore_a = np.array([1, 2, 3])\n",
    "vettore_b = np.array([4, 5, 6])\n",
    "print(\"Prodotto scalare:\", np.dot(vettore_a, vettore_b))\n",
    "\n",
    "# moltiplicazione tra matrici\n",
    "matrice_a = np.array([[1, 2], [3, 4]])\n",
    "matrice_b = np.array([[5, 6], [7, 8]])\n",
    "print(\"Prodotto riga per colonna:\\n\", np.dot(matrice_a, matrice_b))"
   ]
  },
  {
   "cell_type": "markdown",
   "metadata": {},
   "source": [
    "### **Reshaping**, cambiare la forma di un array"
   ]
  },
  {
   "cell_type": "code",
   "execution_count": 137,
   "metadata": {},
   "outputs": [
    {
     "name": "stdout",
     "output_type": "stream",
     "text": [
      "Array originale: [1 2 3 4 5 6]\n",
      "Array ristrutturato:\n",
      " [[1 2 3]\n",
      " [4 5 6]]\n"
     ]
    }
   ],
   "source": [
    "array_originale = np.array([1, 2, 3, 4, 5, 6])\n",
    "print(\"Array originale:\", array_originale)\n",
    "print(\"Array ristrutturato:\\n\", array_originale.reshape((2, 3))) # da vettore (1, 6) a matrice (2, 3)"
   ]
  },
  {
   "cell_type": "markdown",
   "metadata": {},
   "source": [
    "## Lavorare con i dataset: ```Pandas```"
   ]
  },
  {
   "cell_type": "code",
   "execution_count": null,
   "metadata": {},
   "outputs": [],
   "source": []
  },
  {
   "cell_type": "markdown",
   "metadata": {},
   "source": [
    "## Data visualization: ```Matplotlib``` e ```Seaborn```"
   ]
  },
  {
   "cell_type": "code",
   "execution_count": null,
   "metadata": {},
   "outputs": [],
   "source": []
  },
  {
   "cell_type": "markdown",
   "metadata": {},
   "source": [
    "## Esempio pratico\n",
    "### Calcolo e visualizzazione della trasformata di Fourier discreta (DFT) di un segnale temporale $y(t)$"
   ]
  },
  {
   "cell_type": "markdown",
   "metadata": {},
   "source": [
    "$y[k] = \\sum^{N-1}_{t=0} e^{-2\\pi j\\cdot\\frac{k\\cdot n}{N}}\\cdot x[t]$, dove:\n",
    "- $y[k]$ è il risultato della trasformata di Fourier per un indice $k$ specifico. Questo valore rappresenta l'ampiezza e la fase della componente in frequenza $k$ del segnale. Si ricorda che $y[k]$ è un numero complesso.\n",
    "- $x[t]$ è il segnale di input, una sequenza di campioni discreti (numeri) presi da un segnale continuo o generati in digitale.\n",
    "- $N$ è il numero totale di campioni del segnale $x[t]$.\n",
    "- $k$ è l'indice che indica la specifica frequenza in uscita. Il valore di $k$ varia da $0$ a $N−1$ e rappresenta le frequenze analizzate nel dominio delle frequenze.\n",
    "$e^{-2\\pi j\\cdot\\frac{k\\cdot n}{N}}$ è il termine esponenziale complesso, detto nucleo della DFT. Questo termine è responsabile della conversione dei campioni $x[t]$ nel dominio delle frequenze."
   ]
  },
  {
   "cell_type": "code",
   "execution_count": 20,
   "metadata": {},
   "outputs": [
    {
     "data": {
      "image/png": "[encoded data removed]",
      "text/plain": [
       "<Figure size 640x480 with 1 Axes>"
      ]
     },
     "metadata": {},
     "output_type": "display_data"
    }
   ],
   "source": [
    "from scipy.fft import fft, fftfreq\n",
    "\n",
    "# numero di campioni\n",
    "N = 600\n",
    "\n",
    "# frequenza di campionamento (800 Hz)\n",
    "f = 1.0 / 800.0\n",
    "\n",
    "# dominio temporale discreto: da 0s a 0.75s \n",
    "t_domain = np.linspace(0, N*f, N, endpoint=False)\n",
    "\n",
    "# segnale temporale periodico\n",
    "y = np.sin(2.0*np.pi*50*t_domain) + 0.5*np.sin(2.0*np.pi*80*t_domain)\n",
    "\n",
    "# calcolo della DFT e delle frequenze (solo quelle positive)\n",
    "yf = fft(y)\n",
    "xf = fftfreq(N, f)[:N//2]\n",
    "\n",
    "# visualizzazione delle DFT\n",
    "plt.plot(\n",
    "    xf,\n",
    "    2.0/N * np.abs(yf[0:N//2])\n",
    ")\n",
    "plt.grid(axis=\"both\", ls=\"--\", alpha=.5)"
   ]
  }
 ],
 "metadata": {
  "kernelspec": {
   "display_name": "base",
   "language": "python",
   "name": "python3"
  },
  "language_info": {
   "codemirror_mode": {
    "name": "ipython",
    "version": 3
   },
   "file_extension": ".py",
   "mimetype": "text/x-python",
   "name": "python",
   "nbconvert_exporter": "python",
   "pygments_lexer": "ipython3",
   "version": "3.12.7"
  }
 },
 "nbformat": 4,
 "nbformat_minor": 2
}
